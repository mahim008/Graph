{
 "cells": [
  {
   "cell_type": "code",
   "execution_count": 1,
   "id": "6b52d5c2",
   "metadata": {},
   "outputs": [],
   "source": [
    "##Binary Tree Implementation"
   ]
  },
  {
   "cell_type": "code",
   "execution_count": 2,
   "id": "8b80b78e",
   "metadata": {},
   "outputs": [],
   "source": [
    "#Making Queue() class for traversal\n",
    "class Queue():\n",
    "    def __init__(self):\n",
    "        self.items=[]\n",
    "    def enqueue(self,item):\n",
    "        self.items.append(item)\n",
    "    def dequeue(self):\n",
    "        if len(self.items):\n",
    "            return self.items.pop(0)\n",
    "    def peek(self):\n",
    "        if len(self.items):\n",
    "            return self.items[0].value"
   ]
  },
  {
   "cell_type": "code",
   "execution_count": 3,
   "id": "01e141ff",
   "metadata": {},
   "outputs": [],
   "source": [
    "#Making Node class with value,left,right\n",
    "class Node():\n",
    "    def __init__(self,value):\n",
    "        self.value = value\n",
    "        self.left = None\n",
    "        self.right = None"
   ]
  },
  {
   "cell_type": "code",
   "execution_count": 4,
   "id": "022eeb26",
   "metadata": {},
   "outputs": [],
   "source": [
    "#Making BinaryTree class with root\n",
    "class BinaryTree():\n",
    "    def __init__(self,value):\n",
    "        self.root = Node(value)\n",
    "        \n",
    "    #preorder traversal of BT\n",
    "    def preorder(self,start,traversal):\n",
    "        #root -> left -> right\n",
    "        if start is None:\n",
    "            return\n",
    "        traversal.append(start.value)\n",
    "        self.preorder(start.left,traversal)\n",
    "        self.preorder(start.right,traversal)\n",
    "        return traversal\n",
    "    \n",
    "    #inorder traversal of BT\n",
    "    def inorder(self,start,traversal):\n",
    "        #left -> root -> right\n",
    "        if start is None:\n",
    "            return \n",
    "        self.inorder(start.left,traversal)\n",
    "        traversal.append(start.value)\n",
    "        self.inorder(start.right,traversal)\n",
    "        return traversal\n",
    "    \n",
    "    #postorder traversal of BT\n",
    "    def postorder(self,start,traversal):\n",
    "        #left -> right -> root\n",
    "        if start is None:\n",
    "            return\n",
    "        self.postorder(start.left,traversal)\n",
    "        self.postorder(start.right,traversal)\n",
    "        traversal.append(start.value)\n",
    "        return traversal\n",
    "    \n",
    "    #Level-Order Traversal (BFS)\n",
    "    def levelorder(self,start):\n",
    "        if start is None:\n",
    "            return\n",
    "        queue = Queue()\n",
    "        queue.enqueue(start)\n",
    "        traversal = []\n",
    "        while len(queue.items)>0:\n",
    "            traversal.append(queue.peek())\n",
    "            node = queue.dequeue()\n",
    "            if node.left:\n",
    "                queue.enqueue(node.left)\n",
    "            if node.right:\n",
    "                queue.enqueue(node.right)\n",
    "        return traversal"
   ]
  },
  {
   "cell_type": "code",
   "execution_count": 5,
   "id": "2bdee64d",
   "metadata": {},
   "outputs": [],
   "source": [
    "#intializing tree for https://prnt.sc/4BP-VnYmccaD this tree\n",
    "\n",
    "tree = BinaryTree(3)\n",
    "\n",
    "tree.root.left = Node(4)\n",
    "tree.root.left.left = Node(6)\n",
    "tree.root.left.right = Node(7)\n",
    "\n",
    "tree.root.right = Node(5)\n",
    "tree.root.right.left = Node(8)\n",
    "tree.root.right.right = Node(9)"
   ]
  },
  {
   "cell_type": "code",
   "execution_count": 6,
   "id": "97c90417",
   "metadata": {},
   "outputs": [
    {
     "data": {
      "text/plain": [
       "[3, 4, 6, 7, 5, 8, 9]"
      ]
     },
     "execution_count": 6,
     "metadata": {},
     "output_type": "execute_result"
    }
   ],
   "source": [
    "tree.preorder(tree.root,[])"
   ]
  },
  {
   "cell_type": "code",
   "execution_count": 8,
   "id": "024ccf24",
   "metadata": {},
   "outputs": [
    {
     "data": {
      "text/plain": [
       "[6, 4, 7, 3, 8, 5, 9]"
      ]
     },
     "execution_count": 8,
     "metadata": {},
     "output_type": "execute_result"
    }
   ],
   "source": [
    "tree.inorder(tree.root,[])"
   ]
  },
  {
   "cell_type": "code",
   "execution_count": 9,
   "id": "0a643818",
   "metadata": {},
   "outputs": [
    {
     "data": {
      "text/plain": [
       "[6, 7, 4, 8, 9, 5, 3]"
      ]
     },
     "execution_count": 9,
     "metadata": {},
     "output_type": "execute_result"
    }
   ],
   "source": [
    "tree.postorder(tree.root,[])"
   ]
  },
  {
   "cell_type": "markdown",
   "id": "cf0a25bf",
   "metadata": {},
   "source": [
    "<img src=\"https://prnt.sc/4BP-VnYmccaD\"/>"
   ]
  },
  {
   "cell_type": "code",
   "execution_count": 7,
   "id": "7c96dc47",
   "metadata": {},
   "outputs": [
    {
     "data": {
      "text/plain": [
       "[3, 4, 5, 6, 7, 8, 9]"
      ]
     },
     "execution_count": 7,
     "metadata": {},
     "output_type": "execute_result"
    }
   ],
   "source": [
    "tree.levelorder(tree.root)"
   ]
  }
 ],
 "metadata": {
  "kernelspec": {
   "display_name": "Python 3",
   "language": "python",
   "name": "python3"
  },
  "language_info": {
   "codemirror_mode": {
    "name": "ipython",
    "version": 3
   },
   "file_extension": ".py",
   "mimetype": "text/x-python",
   "name": "python",
   "nbconvert_exporter": "python",
   "pygments_lexer": "ipython3",
   "version": "3.8.8"
  }
 },
 "nbformat": 4,
 "nbformat_minor": 5
}
