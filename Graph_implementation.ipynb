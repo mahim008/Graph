{
 "cells": [
  {
   "cell_type": "code",
   "execution_count": null,
   "id": "4943c99d",
   "metadata": {},
   "outputs": [],
   "source": [
    "##Graph Implementation"
   ]
  },
  {
   "cell_type": "code",
   "execution_count": 1,
   "id": "d0ab1268",
   "metadata": {},
   "outputs": [],
   "source": [
    "#creating Node class\n",
    "class Node():\n",
    "    def __init__(self,value):\n",
    "        self.value = value\n",
    "        self.adjacent_list = []\n",
    "        self.visited = False"
   ]
  },
  {
   "cell_type": "code",
   "execution_count": 3,
   "id": "0bcaebc8",
   "metadata": {},
   "outputs": [],
   "source": [
    "#creating Graph class\n",
    "class Graph():\n",
    "    #BFS traversal\n",
    "    def BFS(self,node):\n",
    "        queue = []\n",
    "        #adding node to queue\n",
    "        queue.append(node)\n",
    "        node.visited = True\n",
    "        traversal = []\n",
    "        while queue:\n",
    "            #getting peek node as actual node\n",
    "            actualNode = queue.pop(0)\n",
    "            #append to traversal\n",
    "            traversal.append(actualNode.value)\n",
    "            for element in actualNode.adjacent_list:\n",
    "                if element.visited is False:\n",
    "                    queue.append(element)\n",
    "                    element.visited = True\n",
    "        return traversal"
   ]
  },
  {
   "cell_type": "code",
   "execution_count": 4,
   "id": "b002b7a4",
   "metadata": {},
   "outputs": [],
   "source": [
    "#creating graph for this https://prnt.sc/lKR66lau1ApQ"
   ]
  },
  {
   "cell_type": "code",
   "execution_count": 7,
   "id": "ec561b20",
   "metadata": {},
   "outputs": [],
   "source": [
    "#just creating the nodes\n",
    "node1 = Node(\"A\")\n",
    "node2 = Node(\"B\")\n",
    "node3 = Node(\"C\")\n",
    "node4 = Node(\"D\")\n",
    "node5 = Node(\"E\")\n",
    "node6 = Node(\"F\")\n",
    "node7 = Node(\"G\")"
   ]
  },
  {
   "cell_type": "code",
   "execution_count": 8,
   "id": "63d5fd08",
   "metadata": {},
   "outputs": [],
   "source": [
    "#adding edge to connected nodes"
   ]
  },
  {
   "cell_type": "code",
   "execution_count": 9,
   "id": "69a001a3",
   "metadata": {},
   "outputs": [],
   "source": [
    "#for node1 (A)\n",
    "node1.adjacent_list.append(node2)\n",
    "node1.adjacent_list.append(node3)\n",
    "node1.adjacent_list.append(node4)\n",
    "\n",
    "#for node2 (B)\n",
    "node2.adjacent_list.append(node5)\n",
    "node2.adjacent_list.append(node6)\n",
    "\n",
    "#for node4 (D)\n",
    "node4.adjacent_list.append(node7)\n",
    "\n",
    "#if A and C was both way connected, edge connection will be this\n",
    "#node1.adjacent_list.append(node3)\n",
    "#node3.adjacent_list.append(node1)"
   ]
  },
  {
   "cell_type": "code",
   "execution_count": 10,
   "id": "88c55317",
   "metadata": {},
   "outputs": [],
   "source": [
    "#making Graph() object and printing the BFS resul"
   ]
  },
  {
   "cell_type": "code",
   "execution_count": null,
   "id": "279ac2c6",
   "metadata": {},
   "outputs": [],
   "source": [
    "graph = Graph()\n"
   ]
  }
 ],
 "metadata": {
  "kernelspec": {
   "display_name": "Python 3",
   "language": "python",
   "name": "python3"
  },
  "language_info": {
   "codemirror_mode": {
    "name": "ipython",
    "version": 3
   },
   "file_extension": ".py",
   "mimetype": "text/x-python",
   "name": "python",
   "nbconvert_exporter": "python",
   "pygments_lexer": "ipython3",
   "version": "3.8.8"
  }
 },
 "nbformat": 4,
 "nbformat_minor": 5
}
